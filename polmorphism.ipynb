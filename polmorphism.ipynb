{
 "cells": [
  {
   "cell_type": "code",
   "execution_count": 1,
   "id": "1ada6854-4c48-453a-9a5e-7e06c5c413a7",
   "metadata": {},
   "outputs": [],
   "source": [
    "class a():\n",
    "\n",
    "    def __init__(self,name):\n",
    "        self.name = name\n",
    "    def info(self):\n",
    "        return f\"100 calories {self.name} \""
   ]
  },
  {
   "cell_type": "code",
   "execution_count": 2,
   "id": "e0d2ca21-ebbe-4f34-920b-419cd7e543be",
   "metadata": {},
   "outputs": [],
   "source": [
    "class b():\n",
    "\n",
    "    def __init__(self,name):\n",
    "        self.name = name\n",
    "    def info(self):\n",
    "        return f\"150 calories {self.name} \""
   ]
  },
  {
   "cell_type": "code",
   "execution_count": 3,
   "id": "df8f5c76-0e71-419e-907b-7dc12e7efa87",
   "metadata": {},
   "outputs": [],
   "source": [
    "apple= a(\"apple\")"
   ]
  },
  {
   "cell_type": "code",
   "execution_count": 4,
   "id": "cb37dbae-31a3-46cd-8ce0-4c9626c08d06",
   "metadata": {},
   "outputs": [],
   "source": [
    "banan = b(\"banan\")"
   ]
  },
  {
   "cell_type": "code",
   "execution_count": 5,
   "id": "49283e56-3b01-4c5c-a62a-0033f40945fc",
   "metadata": {},
   "outputs": [],
   "source": [
    "c=[apple,banan]"
   ]
  },
  {
   "cell_type": "code",
   "execution_count": 6,
   "id": "90bd46b1-b953-4441-b33d-3348c2694ec8",
   "metadata": {},
   "outputs": [
    {
     "name": "stdout",
     "output_type": "stream",
     "text": [
      "100 calories apple \n",
      "150 calories banan \n"
     ]
    }
   ],
   "source": [
    "for i in c:\n",
    "    print(i.info())"
   ]
  },
  {
   "cell_type": "code",
   "execution_count": null,
   "id": "ec161a19-738e-4a1f-ab00-a84541a4ca5f",
   "metadata": {},
   "outputs": [],
   "source": []
  }
 ],
 "metadata": {
  "kernelspec": {
   "display_name": "Python 3 (ipykernel)",
   "language": "python",
   "name": "python3"
  },
  "language_info": {
   "codemirror_mode": {
    "name": "ipython",
    "version": 3
   },
   "file_extension": ".py",
   "mimetype": "text/x-python",
   "name": "python",
   "nbconvert_exporter": "python",
   "pygments_lexer": "ipython3",
   "version": "3.12.7"
  }
 },
 "nbformat": 4,
 "nbformat_minor": 5
}

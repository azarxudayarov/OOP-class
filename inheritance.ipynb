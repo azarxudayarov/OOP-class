{
 "cells": [
  {
   "cell_type": "code",
   "execution_count": 8,
   "id": "f72babac-9ee1-4b5a-8725-012470c7f2d8",
   "metadata": {},
   "outputs": [],
   "source": [
    "#inheritance"
   ]
  },
  {
   "cell_type": "code",
   "execution_count": 9,
   "id": "421c25fa-c2d0-47a5-acf0-e13ebfa0fe4c",
   "metadata": {},
   "outputs": [],
   "source": [
    "class men():\n",
    "\n",
    "    def __init__(self,name):\n",
    "        self.name = name\n",
    "        print(\"men\", self.name)\n",
    "    def cap(self):\n",
    "        print(\"cap_men\")\n",
    "        "
   ]
  },
  {
   "cell_type": "code",
   "execution_count": 10,
   "id": "591bc40b-8d07-4468-a9ef-3ac4293422ff",
   "metadata": {},
   "outputs": [],
   "source": [
    "class sen(men):\n",
    "\n",
    "    def __inti__(self,age):\n",
    "        self.age = age\n",
    "        men.__init__(self,name)\n",
    "        print(\"sen\", self.age)\n",
    "    def cap_sen(self):\n",
    "        print(\"cap sen\")"
   ]
  },
  {
   "cell_type": "code",
   "execution_count": 11,
   "id": "fb0358a8-695a-48a8-89ca-ed55dbb2727f",
   "metadata": {},
   "outputs": [
    {
     "name": "stdout",
     "output_type": "stream",
     "text": [
      "men anar\n"
     ]
    }
   ],
   "source": [
    "s=men(\"anar\")"
   ]
  },
  {
   "cell_type": "code",
   "execution_count": 12,
   "id": "0858fe3e-5520-487d-96c8-b23da05f8727",
   "metadata": {},
   "outputs": [
    {
     "name": "stdout",
     "output_type": "stream",
     "text": [
      "cap_men\n"
     ]
    }
   ],
   "source": [
    "s.cap()"
   ]
  },
  {
   "cell_type": "code",
   "execution_count": 13,
   "id": "297cd67a-2526-40a7-8f3e-2d9048e2e824",
   "metadata": {},
   "outputs": [
    {
     "name": "stdout",
     "output_type": "stream",
     "text": [
      "men 12\n"
     ]
    }
   ],
   "source": [
    "t=sen(12)"
   ]
  },
  {
   "cell_type": "code",
   "execution_count": 14,
   "id": "612481e0-d80d-4169-9007-b598b49f3eca",
   "metadata": {},
   "outputs": [
    {
     "name": "stdout",
     "output_type": "stream",
     "text": [
      "cap sen\n"
     ]
    }
   ],
   "source": [
    "t.cap_sen()"
   ]
  },
  {
   "cell_type": "code",
   "execution_count": 15,
   "id": "a52586f5-479f-4341-bf6b-1a4a3f5baaef",
   "metadata": {},
   "outputs": [
    {
     "name": "stdout",
     "output_type": "stream",
     "text": [
      "cap_men\n"
     ]
    }
   ],
   "source": [
    "t.cap()"
   ]
  },
  {
   "cell_type": "code",
   "execution_count": null,
   "id": "e26a050e-b60a-485f-9f06-d3ed2ee8c905",
   "metadata": {},
   "outputs": [],
   "source": []
  },
  {
   "cell_type": "code",
   "execution_count": null,
   "id": "c5643a7d-39dd-43d0-b4ee-17f1ad594cf4",
   "metadata": {},
   "outputs": [],
   "source": []
  },
  {
   "cell_type": "code",
   "execution_count": null,
   "id": "8eed5c5a-17c7-4f7b-971c-0480a98100b7",
   "metadata": {},
   "outputs": [],
   "source": []
  }
 ],
 "metadata": {
  "kernelspec": {
   "display_name": "Python 3 (ipykernel)",
   "language": "python",
   "name": "python3"
  },
  "language_info": {
   "codemirror_mode": {
    "name": "ipython",
    "version": 3
   },
   "file_extension": ".py",
   "mimetype": "text/x-python",
   "name": "python",
   "nbconvert_exporter": "python",
   "pygments_lexer": "ipython3",
   "version": "3.12.7"
  }
 },
 "nbformat": 4,
 "nbformat_minor": 5
}

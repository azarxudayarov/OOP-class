{
 "cells": [
  {
   "cell_type": "code",
   "execution_count": 1,
   "id": "908a4b0b-dfec-40ac-a0bb-a8f0ebf7cef1",
   "metadata": {},
   "outputs": [],
   "source": [
    "#abstraction"
   ]
  },
  {
   "cell_type": "code",
   "execution_count": 2,
   "id": "eb49d0ee-5d77-4600-9f8d-047406bb0b41",
   "metadata": {},
   "outputs": [],
   "source": [
    "from abc import ABC,abstractmethod"
   ]
  },
  {
   "cell_type": "code",
   "execution_count": 3,
   "id": "9ce31b64-c8a6-440e-a27e-06d6b9545e54",
   "metadata": {},
   "outputs": [],
   "source": [
    "class car(ABC):\n",
    "    @abstractmethod\n",
    "    def maxspeed(self):\n",
    "        pass"
   ]
  },
  {
   "cell_type": "code",
   "execution_count": 4,
   "id": "f0a7d0bf-3700-443d-a8bb-e616330953c7",
   "metadata": {},
   "outputs": [],
   "source": [
    "class Tesla(car):\n",
    "    def maxspeed(self):\n",
    "        print(\"250km\")"
   ]
  },
  {
   "cell_type": "code",
   "execution_count": 5,
   "id": "e8d9e9ab-be33-4700-ab0d-7acb05a1a78f",
   "metadata": {},
   "outputs": [],
   "source": [
    "t= Tesla()"
   ]
  },
  {
   "cell_type": "code",
   "execution_count": 6,
   "id": "073606fd-ce3e-4831-a0af-534b44681fd1",
   "metadata": {},
   "outputs": [
    {
     "name": "stdout",
     "output_type": "stream",
     "text": [
      "250km\n"
     ]
    }
   ],
   "source": [
    "t.maxspeed()"
   ]
  },
  {
   "cell_type": "code",
   "execution_count": 7,
   "id": "824233e3-8e58-40d4-b13e-59a8ce10a1c5",
   "metadata": {},
   "outputs": [],
   "source": [
    "class Toyota(car):\n",
    "    def maxspee(self):\n",
    "        print(\"300km\")"
   ]
  },
  {
   "cell_type": "code",
   "execution_count": 8,
   "id": "cafb7c47-ee33-441b-a95c-095a4b5b61cf",
   "metadata": {},
   "outputs": [
    {
     "ename": "TypeError",
     "evalue": "Can't instantiate abstract class Toyota without an implementation for abstract method 'maxspeed'",
     "output_type": "error",
     "traceback": [
      "\u001b[1;31m---------------------------------------------------------------------------\u001b[0m",
      "\u001b[1;31mTypeError\u001b[0m                                 Traceback (most recent call last)",
      "Cell \u001b[1;32mIn[8], line 1\u001b[0m\n\u001b[1;32m----> 1\u001b[0m to \u001b[38;5;241m=\u001b[39m Toyota()\n",
      "\u001b[1;31mTypeError\u001b[0m: Can't instantiate abstract class Toyota without an implementation for abstract method 'maxspeed'"
     ]
    }
   ],
   "source": [
    "to = Toyota()"
   ]
  },
  {
   "cell_type": "code",
   "execution_count": null,
   "id": "dca727ff-d607-4108-a170-387494ab4f42",
   "metadata": {},
   "outputs": [],
   "source": [
    "class Toyota(car):\n",
    "    def maxspeed(self):\n",
    "        print(\"300km\")"
   ]
  },
  {
   "cell_type": "code",
   "execution_count": null,
   "id": "01875e5d-f08d-4b78-878f-6ddbfd5f9259",
   "metadata": {},
   "outputs": [],
   "source": [
    "toy =Toyota()"
   ]
  },
  {
   "cell_type": "code",
   "execution_count": null,
   "id": "5ae31481-e875-4d64-a9f3-f1e3b09c6cbe",
   "metadata": {},
   "outputs": [],
   "source": [
    "toy.maxspeed()"
   ]
  },
  {
   "cell_type": "code",
   "execution_count": null,
   "id": "bee1aa3a-5525-413f-873d-458f7cbad555",
   "metadata": {},
   "outputs": [],
   "source": []
  }
 ],
 "metadata": {
  "kernelspec": {
   "display_name": "Python 3 (ipykernel)",
   "language": "python",
   "name": "python3"
  },
  "language_info": {
   "codemirror_mode": {
    "name": "ipython",
    "version": 3
   },
   "file_extension": ".py",
   "mimetype": "text/x-python",
   "name": "python",
   "nbconvert_exporter": "python",
   "pygments_lexer": "ipython3",
   "version": "3.12.7"
  }
 },
 "nbformat": 4,
 "nbformat_minor": 5
}

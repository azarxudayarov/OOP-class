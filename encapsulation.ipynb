{
 "cells": [
  {
   "cell_type": "code",
   "execution_count": 1,
   "id": "d93516d3-efa1-459b-987b-83bdefbb9b60",
   "metadata": {},
   "outputs": [],
   "source": [
    "#encapsulation"
   ]
  },
  {
   "cell_type": "code",
   "execution_count": 2,
   "id": "94bb9ecc-8b18-4f58-a4b3-7dd82f4eb5bc",
   "metadata": {},
   "outputs": [],
   "source": [
    "class men():\n",
    "\n",
    "    def __init__(self,name,price):\n",
    "        self.name = name\n",
    "        self.__price = price\n",
    "    def cap(self):\n",
    "        print( f\"this {self.name} is {self.__price} \" )\n",
    "    def AdminChangePrice(self,price):\n",
    "        self.__price = price"
   ]
  },
  {
   "cell_type": "code",
   "execution_count": 3,
   "id": "940cc8d7-706d-42fc-a654-082d2af5bd75",
   "metadata": {},
   "outputs": [],
   "source": [
    "a=men(\"IPhone\",2000)"
   ]
  },
  {
   "cell_type": "code",
   "execution_count": 4,
   "id": "4a983ac7-686d-46b0-a827-8b7cf3de0adc",
   "metadata": {},
   "outputs": [
    {
     "name": "stdout",
     "output_type": "stream",
     "text": [
      "this IPhone is 2000 \n"
     ]
    }
   ],
   "source": [
    "a.cap()"
   ]
  },
  {
   "cell_type": "code",
   "execution_count": 5,
   "id": "27847179-9402-49eb-81ce-a2541dcff4ff",
   "metadata": {},
   "outputs": [],
   "source": [
    "a.__price = 1200"
   ]
  },
  {
   "cell_type": "code",
   "execution_count": 6,
   "id": "861ab8b1-db81-4093-9b7f-14a13eaa9533",
   "metadata": {},
   "outputs": [
    {
     "name": "stdout",
     "output_type": "stream",
     "text": [
      "this IPhone is 2000 \n"
     ]
    }
   ],
   "source": [
    "a.cap()"
   ]
  },
  {
   "cell_type": "code",
   "execution_count": 7,
   "id": "ff8b9642-dd83-4ec0-ac8c-e245378ffa16",
   "metadata": {},
   "outputs": [
    {
     "data": {
      "text/plain": [
       "1200"
      ]
     },
     "execution_count": 7,
     "metadata": {},
     "output_type": "execute_result"
    }
   ],
   "source": [
    "a.__price"
   ]
  },
  {
   "cell_type": "code",
   "execution_count": 8,
   "id": "20902181-5b7e-48bd-aa2d-55831e91540b",
   "metadata": {},
   "outputs": [
    {
     "name": "stdout",
     "output_type": "stream",
     "text": [
      "this IPhone is 2000 \n"
     ]
    }
   ],
   "source": [
    "a.cap()"
   ]
  },
  {
   "cell_type": "code",
   "execution_count": 9,
   "id": "d8724bc7-1d35-430a-a9bc-b49fa9eabb87",
   "metadata": {},
   "outputs": [],
   "source": [
    "a.AdminChangePrice(3000)"
   ]
  },
  {
   "cell_type": "code",
   "execution_count": 10,
   "id": "db2e4a9e-6908-4abd-bcff-006f3b668725",
   "metadata": {},
   "outputs": [
    {
     "data": {
      "text/plain": [
       "1200"
      ]
     },
     "execution_count": 10,
     "metadata": {},
     "output_type": "execute_result"
    }
   ],
   "source": [
    "a.__price"
   ]
  },
  {
   "cell_type": "code",
   "execution_count": 11,
   "id": "bd0e1535-e637-44db-9228-72cccc14d3ea",
   "metadata": {},
   "outputs": [
    {
     "name": "stdout",
     "output_type": "stream",
     "text": [
      "this IPhone is 3000 \n"
     ]
    }
   ],
   "source": [
    "a.cap()"
   ]
  },
  {
   "cell_type": "code",
   "execution_count": null,
   "id": "11279a72-dcb0-49e8-a026-5f6e293d27b4",
   "metadata": {},
   "outputs": [],
   "source": []
  }
 ],
 "metadata": {
  "kernelspec": {
   "display_name": "Python 3 (ipykernel)",
   "language": "python",
   "name": "python3"
  },
  "language_info": {
   "codemirror_mode": {
    "name": "ipython",
    "version": 3
   },
   "file_extension": ".py",
   "mimetype": "text/x-python",
   "name": "python",
   "nbconvert_exporter": "python",
   "pygments_lexer": "ipython3",
   "version": "3.12.7"
  }
 },
 "nbformat": 4,
 "nbformat_minor": 5
}
